{
 "cells": [
  {
   "cell_type": "code",
   "execution_count": 3,
   "metadata": {},
   "outputs": [],
   "source": [
    "import pandas as pd\n",
    "\n",
    "df_title =  pd.read_csv(\"data/galica_mon_sampling_title.csv\", index_col = [0])"
   ]
  },
  {
   "cell_type": "code",
   "execution_count": 4,
   "metadata": {},
   "outputs": [],
   "source": [
    "# Clean the dates\n",
    "\n",
    "def calculate_center(date_range):\n",
    "\n",
    "    if '-????'or \"-18.\" in date_range:\n",
    "        date_range = date_range.replace('-????',\"\")\n",
    "        date_range = date_range.replace(\"-18.\",\"\")\n",
    "\n",
    "    if '-' in date_range:\n",
    "        try:\n",
    "            start, end = map(int, date_range.split('-'))\n",
    "            res  = int(start) + (int(end) - int(start)) // 2\n",
    "        except:\n",
    "            res = date_range\n",
    "    else:\n",
    "        res = date_range\n",
    "    return res\n",
    "\n",
    "\n",
    "# Replace date ranges with their centers\n",
    "#df_title['clean_date'] = df_title['date'].apply(calculate_center)\n",
    "df_title = df_title[~df_title['date'].str.contains('-')]\n",
    "df_title['date'] = df_title['date'].astype(int)\n",
    "#df_title = df_title[~df_title['clean_date'].isna()]\n",
    "#df_title = df_title[df_title['clean_date']!='1843.']\n",
    "#df_title = df_title[df_title['clean_date']!='1829-183.']\n",
    "#df_title['clean_date'] = df_title['clean_date'].astype(int)"
   ]
  },
  {
   "cell_type": "code",
   "execution_count": 8,
   "metadata": {},
   "outputs": [
    {
     "data": {
      "text/plain": [
       "date_category\n",
       "1850-1900      12958\n",
       "before 1850     8588\n",
       "after 1900      4764\n",
       "Name: count, dtype: int64"
      ]
     },
     "execution_count": 8,
     "metadata": {},
     "output_type": "execute_result"
    }
   ],
   "source": [
    "# Define a function to categorize dates\n",
    "def categorize_date(date):\n",
    "    date = int(date)\n",
    "    if date < 1850:\n",
    "        return 'before 1850'\n",
    "    elif 1850 <= date <= 1900:\n",
    "        return '1850-1900'\n",
    "    else:\n",
    "        return 'after 1900'\n",
    "    \n",
    "df_title['date_category'] = df_title['date'].apply(categorize_date)\n",
    "df_title.date_category.value_counts()"
   ]
  },
  {
   "cell_type": "code",
   "execution_count": 7,
   "metadata": {},
   "outputs": [
    {
     "data": {
      "text/html": [
       "<div>\n",
       "<style scoped>\n",
       "    .dataframe tbody tr th:only-of-type {\n",
       "        vertical-align: middle;\n",
       "    }\n",
       "\n",
       "    .dataframe tbody tr th {\n",
       "        vertical-align: top;\n",
       "    }\n",
       "\n",
       "    .dataframe thead th {\n",
       "        text-align: right;\n",
       "    }\n",
       "</style>\n",
       "<table border=\"1\" class=\"dataframe\">\n",
       "  <thead>\n",
       "    <tr style=\"text-align: right;\">\n",
       "      <th></th>\n",
       "      <th>file_id</th>\n",
       "      <th>ocr</th>\n",
       "      <th>title</th>\n",
       "      <th>date</th>\n",
       "      <th>author</th>\n",
       "      <th>page_count</th>\n",
       "      <th>word_count</th>\n",
       "      <th>character_count</th>\n",
       "      <th>date_category</th>\n",
       "    </tr>\n",
       "  </thead>\n",
       "  <tbody>\n",
       "    <tr>\n",
       "      <th>19767</th>\n",
       "      <td>bpt6k97689386</td>\n",
       "      <td>97</td>\n",
       "      <td>Les Cris de Paris [, par Antoine Truquet]</td>\n",
       "      <td>1545</td>\n",
       "      <td>Truquet, Antoine</td>\n",
       "      <td>62</td>\n",
       "      <td>3492</td>\n",
       "      <td>21801</td>\n",
       "      <td>before 1850</td>\n",
       "    </tr>\n",
       "  </tbody>\n",
       "</table>\n",
       "</div>"
      ],
      "text/plain": [
       "             file_id  ocr                                      title  date  \\\n",
       "19767  bpt6k97689386   97  Les Cris de Paris [, par Antoine Truquet]  1545   \n",
       "\n",
       "                 author  page_count  word_count  character_count date_category  \n",
       "19767  Truquet, Antoine          62        3492            21801   before 1850  "
      ]
     },
     "execution_count": 7,
     "metadata": {},
     "output_type": "execute_result"
    }
   ],
   "source": [
    "df_title[df_title['date']==min(df_title['date'])]"
   ]
  },
  {
   "cell_type": "code",
   "execution_count": 10,
   "metadata": {},
   "outputs": [
    {
     "data": {
      "text/plain": [
       "<Axes: >"
      ]
     },
     "execution_count": 10,
     "metadata": {},
     "output_type": "execute_result"
    },
    {
     "data": {
      "image/png": "[encoded data removed]",
      "text/plain": [
       "<Figure size 640x480 with 1 Axes>"
      ]
     },
     "metadata": {},
     "output_type": "display_data"
    }
   ],
   "source": [
    "df_title.date.hist(bins=50)"
   ]
  }
 ],
 "metadata": {
  "kernelspec": {
   "display_name": "bunkatopics-ybLbeXnh-py3.10",
   "language": "python",
   "name": "python3"
  },
  "language_info": {
   "codemirror_mode": {
    "name": "ipython",
    "version": 3
   },
   "file_extension": ".py",
   "mimetype": "text/x-python",
   "name": "python",
   "nbconvert_exporter": "python",
   "pygments_lexer": "ipython3",
   "version": "3.10.12"
  }
 },
 "nbformat": 4,
 "nbformat_minor": 2
}
