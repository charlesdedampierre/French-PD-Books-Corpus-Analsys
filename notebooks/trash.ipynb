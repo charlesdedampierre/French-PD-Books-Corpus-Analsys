{
 "cells": [
  {
   "cell_type": "code",
   "execution_count": null,
   "metadata": {},
   "outputs": [],
   "source": [
    "# Clean the dates\n",
    "\n",
    "def calculate_center(date_range):\n",
    "\n",
    "    if '-????'or \"-18.\" in date_range:\n",
    "        date_range = date_range.replace('-????',\"\")\n",
    "        date_range = date_range.replace(\"-18.\",\"\")\n",
    "\n",
    "    if '-' in date_range:\n",
    "        try:\n",
    "            start, end = map(int, date_range.split('-'))\n",
    "            res  = int(start) + (int(end) - int(start)) // 2\n",
    "        except:\n",
    "            res = date_range\n",
    "    else:\n",
    "        res = date_range\n",
    "    return res\n",
    "\n",
    "# Replace date ranges with their centers\n",
    "#df_title['clean_date'] = df_title['date'].apply(calculate_center)\n",
    "\n",
    "#df_title = df_title[~df_title['clean_date'].isna()]\n",
    "#df_title = df_title[df_title['clean_date']!='1843.']\n",
    "#df_title = df_title[df_title['clean_date']!='1829-183.']\n",
    "#df_title['clean_date'] = df_title['clean_date'].astype(int)"
   ]
  }
 ],
 "metadata": {
  "language_info": {
   "name": "python"
  }
 },
 "nbformat": 4,
 "nbformat_minor": 2
}
