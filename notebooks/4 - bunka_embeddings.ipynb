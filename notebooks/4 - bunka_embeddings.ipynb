{
 "cells": [
  {
   "cell_type": "code",
   "execution_count": 1,
   "metadata": {},
   "outputs": [
    {
     "name": "stdout",
     "output_type": "stream",
     "text": [
      "\n",
      "\u001b[1m[\u001b[0m\u001b[34;49mnotice\u001b[0m\u001b[1;39;49m]\u001b[0m\u001b[39;49m A new release of pip is available: \u001b[0m\u001b[31;49m23.3.1\u001b[0m\u001b[39;49m -> \u001b[0m\u001b[32;49m23.3.2\u001b[0m\n",
      "\u001b[1m[\u001b[0m\u001b[34;49mnotice\u001b[0m\u001b[1;39;49m]\u001b[0m\u001b[39;49m To update, run: \u001b[0m\u001b[32;49mpip install --upgrade pip\u001b[0m\n"
     ]
    }
   ],
   "source": [
    "#!pip -q install git+https://github.com/charlesdedampierre/BunkaTopics.git@dev --upgrade"
   ]
  },
  {
   "cell_type": "code",
   "execution_count": 2,
   "metadata": {},
   "outputs": [],
   "source": [
    "from bunkatopics import Bunka\n",
    "from langchain_community.embeddings import HuggingFaceEmbeddings\n",
    "import os\n",
    "\n",
    "model_name = \"OrdalieTech/Solon-embeddings-large-0.1\"\n",
    "\n",
    "embedding_model = HuggingFaceEmbeddings(model_name=model_name,# We recommend starting with a small model\n",
    "                                        model_kwargs={\"device\": \"cuda\"}, # Or cuda if you have GPU\n",
    "                                        encode_kwargs={\"show_progress_bar\": True}, # Show the progress of embeddings\n",
    "                                        multi_process=False)  # set to True if you have mutliprocessing"
   ]
  },
  {
   "cell_type": "code",
   "execution_count": 24,
   "metadata": {},
   "outputs": [],
   "source": [
    "import pandas as pd\n",
    "import tiktoken\n",
    "\n",
    "\n",
    "encoding = tiktoken.get_encoding(\"cl100k_base\")\n",
    "\n",
    "def num_tokens_from_string(string) -> int:\n",
    "    \"\"\"Returns the number of tokens in a text string.\"\"\"\n",
    "    num_tokens = len(encoding.encode(string))\n",
    "    return num_tokens\n",
    "\n",
    "\n",
    "data = pd.read_csv('../data/data_preprocessed/merged_sample_data.csv', index_col=[0])\n",
    "data = data[~data['title'].isna()]\n",
    "\n",
    "data['token_count'] = data['title'].apply(num_tokens_from_string)\n",
    "data = data[(data['token_count']<100)] # Remove title too long\n",
    "data = data[(data['token_count']>3)] # Remove title too long\n",
    "\n",
    "\n",
    "data = data[['file_id', 'title', 'token_count']].copy()\n",
    "data = data.drop_duplicates('title', keep='first')\n",
    "docs = list(data['title'])"
   ]
  },
  {
   "cell_type": "code",
   "execution_count": null,
   "metadata": {},
   "outputs": [],
   "source": []
  },
  {
   "cell_type": "code",
   "execution_count": 26,
   "metadata": {},
   "outputs": [
    {
     "name": "stderr",
     "output_type": "stream",
     "text": [
      "\u001b[32m2024-01-31 15:38:12 - \u001b[94mBunka\u001b[0m - INFO - \u001b[1mEmbedding documents... (can take varying amounts of time depending on their size)\u001b[0m\n"
     ]
    },
    {
     "data": {
      "application/vnd.jupyter.widget-view+json": {
       "model_id": "0304098ba175481f90a348b5726e7d0b",
       "version_major": 2,
       "version_minor": 0
      },
      "text/plain": [
       "Batches:   0%|          | 0/801 [00:00<?, ?it/s]"
      ]
     },
     "metadata": {},
     "output_type": "display_data"
    },
    {
     "name": "stderr",
     "output_type": "stream",
     "text": [
      "\u001b[32m2024-01-31 15:40:27 - \u001b[94mBunka\u001b[0m - INFO - \u001b[1mReducing the dimensions of embeddings...\u001b[0m\n",
      "\u001b[32m2024-01-31 15:41:04 - \u001b[94mBunka\u001b[0m - INFO - \u001b[1mExtracting meaningful terms from documents...\u001b[0m\n",
      "100%|██████████| 25604/25604 [04:01<00:00, 106.00it/s]\n"
     ]
    }
   ],
   "source": [
    "bunka = Bunka(embedding_model=embedding_model, language='french') # You can choose any language you prefer\n",
    "bunka.fit(docs)"
   ]
  },
  {
   "cell_type": "code",
   "execution_count": 27,
   "metadata": {},
   "outputs": [],
   "source": [
    "# Save the embeddings and the terms in Bunka Objects\n",
    "\n",
    "import jsonlines  # You may need to install this library using pip\n",
    "\n",
    "# Dump the data into JSONL files\n",
    "with jsonlines.open(\"../data/data_preprocessed/bunka_data/bunka_docs.jsonl\", mode=\"w\") as writer:\n",
    "    for item in bunka.docs:\n",
    "        writer.write(item.dict())\n",
    "\n",
    "# Dump the data into JSONL files\n",
    "with jsonlines.open(\"../data/data_preprocessed/bunka_data/bunka_terms.jsonl\", mode=\"w\") as writer:\n",
    "    for item in bunka.terms:\n",
    "        writer.write(item.dict())"
   ]
  }
 ],
 "metadata": {
  "kernelspec": {
   "display_name": "bunkatopics-ybLbeXnh-py3.10",
   "language": "python",
   "name": "python3"
  },
  "language_info": {
   "codemirror_mode": {
    "name": "ipython",
    "version": 3
   },
   "file_extension": ".py",
   "mimetype": "text/x-python",
   "name": "python",
   "nbconvert_exporter": "python",
   "pygments_lexer": "ipython3",
   "version": "3.10.12"
  }
 },
 "nbformat": 4,
 "nbformat_minor": 2
}
