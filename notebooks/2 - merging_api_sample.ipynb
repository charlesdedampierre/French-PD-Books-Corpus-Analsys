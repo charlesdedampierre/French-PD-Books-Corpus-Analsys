{
 "cells": [
  {
   "cell_type": "code",
   "execution_count": 7,
   "metadata": {},
   "outputs": [],
   "source": [
    "import pandas as pd\n",
    "import json\n",
    "\n",
    "# Path to the JSONL file\n",
    "file_path = '../data/raw_data/results_galica_api_sample.jsonl'\n",
    "\n",
    "# Read the JSONL file and convert it to a list of dictionaries\n",
    "data = []\n",
    "with open(file_path, 'r') as file:\n",
    "    for line in file:\n",
    "        json_line = json.loads(line)\n",
    "        data.append(json_line)\n",
    "\n",
    "# Convert the list of dictionaries to a DataFrame\n",
    "df = pd.DataFrame(data)"
   ]
  },
  {
   "cell_type": "code",
   "execution_count": 8,
   "metadata": {},
   "outputs": [],
   "source": [
    "# process API results\n",
    "\n",
    "df_filtered = df[['file_id','title', 'date', 'type', 'setSpec']].copy()\n",
    "df_filtered = df_filtered.explode('setSpec')\n",
    "df_filtered = df_filtered[df_filtered['setSpec'].str.contains(\"theme\")]\n",
    "df_filtered['setSpec'] = df_filtered['setSpec'].apply(lambda x : x.split('gallica:theme:')[1])\n",
    "df_filtered['category_number'] = df_filtered['setSpec'].apply(lambda x : x.split(':')[0])\n",
    "df_filtered['sub_category_number'] = df_filtered['setSpec'].apply(lambda x : x.split(':')[1])\n",
    "\n",
    "df_filtered['category_number'] = df_filtered['category_number'].astype(int)\n",
    "df_filtered['sub_category_number'] = df_filtered['sub_category_number'].astype(int)"
   ]
  },
  {
   "cell_type": "code",
   "execution_count": 9,
   "metadata": {},
   "outputs": [],
   "source": [
    "# Merge with data mapping\n",
    "df_mapping = pd.read_csv('../data/raw_data/galica_mapping_processed.csv')\n",
    "df_final = pd.merge(df_filtered, df_mapping, on = ['category_number', 'sub_category_number'])\n",
    "df_final['full_category_name'] = df_final['category_name'] + df_final['sub_category_name']\n",
    "df_final = df_final.drop(['title', 'date'], axis=1)\n",
    "\n",
    "data_raw_sample = pd.read_csv('../data/raw_data/galica_mon_sampling_title.csv', index_col = [0])\n",
    "df_final = pd.merge(data_raw_sample, df_final, on = 'file_id', how = 'outer')\n",
    "df_final = df_final[~df_final['date'].str.contains('-')]\n",
    "df_final.to_csv('../data/data_preprocessed/merged_sample_data.csv')\n",
    "\n"
   ]
  }
 ],
 "metadata": {
  "kernelspec": {
   "display_name": "bunkatopics-ybLbeXnh-py3.10",
   "language": "python",
   "name": "python3"
  },
  "language_info": {
   "codemirror_mode": {
    "name": "ipython",
    "version": 3
   },
   "file_extension": ".py",
   "mimetype": "text/x-python",
   "name": "python",
   "nbconvert_exporter": "python",
   "pygments_lexer": "ipython3",
   "version": "3.10.12"
  }
 },
 "nbformat": 4,
 "nbformat_minor": 2
}
