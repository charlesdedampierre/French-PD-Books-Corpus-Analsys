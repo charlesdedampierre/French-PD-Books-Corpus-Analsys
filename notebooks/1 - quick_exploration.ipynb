{
 "cells": [
  {
   "cell_type": "code",
   "execution_count": 1,
   "metadata": {},
   "outputs": [],
   "source": [
    "import pandas as pd\n",
    "pd.options.mode.chained_assignment = None\n",
    "\n",
    "\n",
    "data = pd.read_parquet('French-PD-Books/gallica_mono_1.parquet')\n",
    "data['ocr'] = data['ocr'].astype(int)\n",
    "data = data[~data['date'].str.contains('-')]\n",
    "data['date'] = data['date'].astype(int)"
   ]
  },
  {
   "cell_type": "code",
   "execution_count": null,
   "metadata": {},
   "outputs": [],
   "source": [
    "# summarising text ?\n",
    "# visualising title on a 2D Map ?\n",
    "# Exploration tool to explore ? \n",
    "# Summarisation per periods"
   ]
  },
  {
   "cell_type": "code",
   "execution_count": 29,
   "metadata": {},
   "outputs": [
    {
     "data": {
      "text/plain": [
       "<Axes: >"
      ]
     },
     "execution_count": 29,
     "metadata": {},
     "output_type": "execute_result"
    },
    {
     "data": {
      "image/png": "[encoded data removed]",
      "text/plain": [
       "<Figure size 640x480 with 1 Axes>"
      ]
     },
     "metadata": {},
     "output_type": "display_data"
    }
   ],
   "source": [
    "data.date.hist()"
   ]
  },
  {
   "cell_type": "code",
   "execution_count": 11,
   "metadata": {},
   "outputs": [
    {
     "data": {
      "text/plain": [
       "<Axes: >"
      ]
     },
     "execution_count": 11,
     "metadata": {},
     "output_type": "execute_result"
    },
    {
     "data": {
      "image/png": "[encoded data removed]",
      "text/plain": [
       "<Figure size 640x480 with 1 Axes>"
      ]
     },
     "metadata": {},
     "output_type": "display_data"
    }
   ],
   "source": [
    "data['ocr'].hist()"
   ]
  },
  {
   "cell_type": "code",
   "execution_count": 36,
   "metadata": {},
   "outputs": [
    {
     "data": {
      "text/html": [
       "<div>\n",
       "<style scoped>\n",
       "    .dataframe tbody tr th:only-of-type {\n",
       "        vertical-align: middle;\n",
       "    }\n",
       "\n",
       "    .dataframe tbody tr th {\n",
       "        vertical-align: top;\n",
       "    }\n",
       "\n",
       "    .dataframe thead th {\n",
       "        text-align: right;\n",
       "    }\n",
       "</style>\n",
       "<table border=\"1\" class=\"dataframe\">\n",
       "  <thead>\n",
       "    <tr style=\"text-align: right;\">\n",
       "      <th></th>\n",
       "      <th>file_id</th>\n",
       "      <th>ocr</th>\n",
       "      <th>title</th>\n",
       "      <th>date</th>\n",
       "      <th>author</th>\n",
       "      <th>page_count</th>\n",
       "      <th>word_count</th>\n",
       "      <th>character_count</th>\n",
       "      <th>complete_text</th>\n",
       "    </tr>\n",
       "  </thead>\n",
       "  <tbody>\n",
       "    <tr>\n",
       "      <th>1964</th>\n",
       "      <td>bpt6k9750135f</td>\n",
       "      <td>100</td>\n",
       "      <td>Patrimoine champêtre et urbain de Turckheim, W...</td>\n",
       "      <td>2003</td>\n",
       "      <td>Société d'histoire et d'archéologie Wickram (T...</td>\n",
       "      <td>62</td>\n",
       "      <td>9064</td>\n",
       "      <td>54890</td>\n",
       "      <td>\\n[texte_manquant] \\n[texte_manquant] \\nSOCIET...</td>\n",
       "    </tr>\n",
       "  </tbody>\n",
       "</table>\n",
       "</div>"
      ],
      "text/plain": [
       "            file_id  ocr                                              title  \\\n",
       "1964  bpt6k9750135f  100  Patrimoine champêtre et urbain de Turckheim, W...   \n",
       "\n",
       "      date                                             author  page_count  \\\n",
       "1964  2003  Société d'histoire et d'archéologie Wickram (T...          62   \n",
       "\n",
       "      word_count  character_count  \\\n",
       "1964        9064            54890   \n",
       "\n",
       "                                          complete_text  \n",
       "1964  \\n[texte_manquant] \\n[texte_manquant] \\nSOCIET...  "
      ]
     },
     "execution_count": 36,
     "metadata": {},
     "output_type": "execute_result"
    }
   ],
   "source": [
    "data[data['date']>=2000]"
   ]
  },
  {
   "cell_type": "code",
   "execution_count": 15,
   "metadata": {},
   "outputs": [
    {
     "data": {
      "text/plain": [
       "53089.944472236115"
      ]
     },
     "execution_count": 15,
     "metadata": {},
     "output_type": "execute_result"
    }
   ],
   "source": [
    "data.word_count.mean()"
   ]
  },
  {
   "cell_type": "code",
   "execution_count": 32,
   "metadata": {},
   "outputs": [
    {
     "data": {
      "text/plain": [
       "505.9951060358891"
      ]
     },
     "execution_count": 32,
     "metadata": {},
     "output_type": "execute_result"
    }
   ],
   "source": [
    "data.page_count.mean()"
   ]
  },
  {
   "cell_type": "code",
   "execution_count": 34,
   "metadata": {},
   "outputs": [
    {
     "data": {
      "text/plain": [
       "author\n",
       "None                                                                      344\n",
       "Louis XV (1710-1774 ; roi de France)                                       24\n",
       "Louis XIII (1601-1643 ; roi de France)                                     13\n",
       "Balzac, Honoré de (1799-1850)                                               4\n",
       "France. Conseil d'Etat (13..-1791)                                          4\n",
       "Gondrecourt, Aristide de (1815-1876)                                        3\n",
       "Louis XVI (1754-1793 ; roi de France)                                       3\n",
       "La Fontaine, Jean de (1621-1695)                                            3\n",
       "Hugo, Victor (1802-1885)                                                    3\n",
       "Drioux, Claude-Joseph (1820-1898)                                           3\n",
       "France                                                                      3\n",
       "Molière (1622-1673)                                                         3\n",
       "Pigault-Lebrun (1753-1835)                                                  3\n",
       "Féval, Paul (1816-1887)                                                     3\n",
       "Institut national de la statistique et des études économiques (France)      3\n",
       "Reuss, Rodolphe (1841-1924)                                                 2\n",
       "Dresch, Georges (1846-1922)                                                 2\n",
       "Monod, Henri (1843-1911)                                                    2\n",
       "Genlis, Stéphanie-Félicité Du Crest comtesse de (1746-1830)                 2\n",
       "Bersot, Ernest (1816-1880)                                                  2\n",
       "Name: count, dtype: int64"
      ]
     },
     "execution_count": 34,
     "metadata": {},
     "output_type": "execute_result"
    }
   ],
   "source": [
    "data.author.value_counts().head(20)"
   ]
  },
  {
   "cell_type": "code",
   "execution_count": 2,
   "metadata": {},
   "outputs": [],
   "source": [
    "#print(data['complete_text'].iloc[0])"
   ]
  },
  {
   "cell_type": "code",
   "execution_count": 19,
   "metadata": {},
   "outputs": [
    {
     "data": {
      "text/plain": [
       "'1860'"
      ]
     },
     "execution_count": 19,
     "metadata": {},
     "output_type": "execute_result"
    }
   ],
   "source": [
    "data['date'].iloc[0]"
   ]
  },
  {
   "cell_type": "code",
   "execution_count": 40,
   "metadata": {},
   "outputs": [
    {
     "name": "stdout",
     "output_type": "stream",
     "text": [
      "<class 'pandas.core.frame.DataFrame'>\n",
      "Index: 1839 entries, 0 to 1998\n",
      "Data columns (total 9 columns):\n",
      " #   Column           Non-Null Count  Dtype \n",
      "---  ------           --------------  ----- \n",
      " 0   file_id          1839 non-null   object\n",
      " 1   ocr              1839 non-null   int64 \n",
      " 2   title            1839 non-null   object\n",
      " 3   date             1839 non-null   int64 \n",
      " 4   author           1839 non-null   object\n",
      " 5   page_count       1839 non-null   int64 \n",
      " 6   word_count       1839 non-null   int64 \n",
      " 7   character_count  1839 non-null   int64 \n",
      " 8   complete_text    1839 non-null   object\n",
      "dtypes: int64(5), object(4)\n",
      "memory usage: 143.7+ KB\n"
     ]
    }
   ],
   "source": [
    "data.info()"
   ]
  },
  {
   "cell_type": "code",
   "execution_count": null,
   "metadata": {},
   "outputs": [],
   "source": [
    "# Different types of text to be treated separately ?"
   ]
  },
  {
   "cell_type": "code",
   "execution_count": 6,
   "metadata": {},
   "outputs": [
    {
     "data": {
      "text/plain": [
       "106126799"
      ]
     },
     "execution_count": 6,
     "metadata": {},
     "output_type": "execute_result"
    }
   ],
   "source": [
    "#data.word_count.sum()\n",
    "#106,126,799"
   ]
  }
 ],
 "metadata": {
  "kernelspec": {
   "display_name": ".venv",
   "language": "python",
   "name": "python3"
  },
  "language_info": {
   "codemirror_mode": {
    "name": "ipython",
    "version": 3
   },
   "file_extension": ".py",
   "mimetype": "text/x-python",
   "name": "python",
   "nbconvert_exporter": "python",
   "pygments_lexer": "ipython3",
   "version": "3.10.12"
  }
 },
 "nbformat": 4,
 "nbformat_minor": 2
}
