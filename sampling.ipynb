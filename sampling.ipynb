{
 "cells": [
  {
   "cell_type": "code",
   "execution_count": 21,
   "metadata": {},
   "outputs": [
    {
     "name": "stdout",
     "output_type": "stream",
     "text": [
      "145\n"
     ]
    }
   ],
   "source": [
    "import polars as pl\n",
    "import os\n",
    "from tqdm import tqdm\n",
    "\n",
    "parquet_directory = \"French-PD-Books\"  # directory downloaded from HuggingFace\n",
    "\n",
    "# List all the Parquet files in the directory\n",
    "parquet_files = [f for f in os.listdir(parquet_directory) if f.endswith(\".parquet\")]\n",
    "print(len(parquet_files))"
   ]
  },
  {
   "cell_type": "code",
   "execution_count": 23,
   "metadata": {},
   "outputs": [
    {
     "name": "stderr",
     "output_type": "stream",
     "text": [
      "  0%|          | 0/145 [00:00<?, ?it/s]"
     ]
    }
   ],
   "source": [
    "sampled_data = []\n",
    "for file in tqdm(parquet_files):\n",
    "    file_path = os.path.join(parquet_directory, file)\n",
    "    df = pl.read_parquet(file_path)\n",
    "    sampled_df = df.sample(200, seed=42)  # Sample 200 rows\n",
    "    sampled_data.append(sampled_df)"
   ]
  },
  {
   "cell_type": "code",
   "execution_count": 13,
   "metadata": {},
   "outputs": [],
   "source": [
    "# Concat and save the final sampled dataset\n",
    "final_concat = pl.concat(sampled_data)\n",
    "final_concat.write_parquet(\"data/gallica_mono_sampling.parquet\")  # Replace with the desired output path"
   ]
  }
 ],
 "metadata": {
  "kernelspec": {
   "display_name": ".venv",
   "language": "python",
   "name": "python3"
  },
  "language_info": {
   "codemirror_mode": {
    "name": "ipython",
    "version": 3
   },
   "file_extension": ".py",
   "mimetype": "text/x-python",
   "name": "python",
   "nbconvert_exporter": "python",
   "pygments_lexer": "ipython3",
   "version": "3.10.12"
  }
 },
 "nbformat": 4,
 "nbformat_minor": 2
}
